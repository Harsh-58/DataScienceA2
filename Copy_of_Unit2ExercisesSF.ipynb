{
  "nbformat": 4,
  "nbformat_minor": 0,
  "metadata": {
    "colab": {
      "provenance": [],
      "include_colab_link": true
    },
    "kernelspec": {
      "name": "python3",
      "display_name": "Python 3"
    },
    "language_info": {
      "name": "python"
    }
  },
  "cells": [
    {
      "cell_type": "markdown",
      "metadata": {
        "id": "view-in-github",
        "colab_type": "text"
      },
      "source": [
        "<a href=\"https://colab.research.google.com/github/Harsh-58/DataScienceA2/blob/main/Copy_of_Unit2ExercisesSF.ipynb\" target=\"_parent\"><img src=\"https://colab.research.google.com/assets/colab-badge.svg\" alt=\"Open In Colab\"/></a>"
      ]
    },
    {
      "cell_type": "markdown",
      "source": [
        "#Unit 2 Exercises: Bayesian Building Blocks\n",
        "\n",
        "This first set of exercises focuses on conceptual understanding of the three parts of bayesian statistics we'll manipulate the most: the prior, likelihood, and posterior.\n",
        "\n",
        "These vocabulary words will help us categorize and explain all statistical models, even models that don't fit inside the standard bayesian framework."
      ],
      "metadata": {
        "id": "0GANUQSIhV2t"
      }
    },
    {
      "cell_type": "markdown",
      "source": [
        "**Task1**:\n",
        "\n",
        "Why do we make guesses? In other words, what is the benefit of trying to predict something we are uncertain about?"
      ],
      "metadata": {
        "id": "4HnMLojUPtOR"
      }
    },
    {
      "cell_type": "markdown",
      "source": [
        "\n",
        "\n",
        "```\n",
        "# This is formatted as code\n",
        "```\n",
        "\n",
        "We make guesses in order to predict trends. This is useful in trading when people are trying to predict how the economy is going to behave. People can also make predictions using a player's stats to guess how they will perform during the season. The benefit of this is we get a possibility of what might happen."
      ],
      "metadata": {
        "id": "mDaA1AeLU5dU"
      }
    },
    {
      "cell_type": "markdown",
      "source": [
        "**Task2**:\n",
        "\n",
        "Is is it possible to make a guess/prediction without making an assumption?\n",
        "\n",
        "If yes, then give an example of such a guess, and state whenever that guess would be useful or not.\n",
        "\n",
        "If no, then briefly justify why we need assumptions to make predictions."
      ],
      "metadata": {
        "id": "fMU4F4ZGQqb9"
      }
    },
    {
      "cell_type": "markdown",
      "source": [
        "\n",
        "\n",
        "```\n",
        "# This is formatted as code\n",
        "```\n",
        "\n",
        "No, you need to make assumptions to make guesses/predictions. Without an assumption you're just sticking with what you know instead of making a guess. Assumptions are necessary since they allow you to delve into the unknown."
      ],
      "metadata": {
        "id": "JuBQVSQ0U-cD"
      }
    },
    {
      "cell_type": "markdown",
      "source": [
        "**Task3**:\n",
        "\n",
        "Should we use all the available information we have to make a guess/prediction? Justify your answer."
      ],
      "metadata": {
        "id": "8iIogaaJQEfl"
      }
    },
    {
      "cell_type": "markdown",
      "source": [
        "Yes, to make a reasonable prediction, it's essential to analyze the data and the patterns they reveal in order to have an accurate or precise estimate.\n",
        "\n",
        "```\n",
        "# This is formatted as code\n",
        "```\n",
        "\n"
      ],
      "metadata": {
        "id": "v8zljy-5QXSd"
      }
    },
    {
      "cell_type": "markdown",
      "source": [
        "**Task4**:\n",
        "\n",
        "What is a prior? How are priors related to\n",
        "- context?\n",
        "- assumptions?\n",
        "- predictions?"
      ],
      "metadata": {
        "id": "TYwtd8lPRFbj"
      }
    },
    {
      "cell_type": "markdown",
      "source": [
        "Definition of a Prior: A prior refers to the probability distribution of an uncertain quantity before taking new evidence into account.\n",
        "\n",
        "In Relation to Context: Priors are closely tied to context because they are shaped by the specific conditions in which they exist. A prior comes from analyzing and understanding the context of the dataset.\n",
        "\n",
        "In Relation to Assumptions: Assumptions play a key role in priors because they are based on the data scientist's own beliefs and expectations about the data they are estimating.\n",
        "\n",
        "In Relation to Predictions: To make predictions, the observer must thoroughly understand the data they're analyzing and recognize the patterns that the data has shown over time."
      ],
      "metadata": {
        "id": "d6vRRh3wVE5v"
      }
    },
    {
      "cell_type": "markdown",
      "source": [
        "**Task5**:\n",
        "\n",
        "What is a likelihood? How are likelihoods related to:\n",
        "\n",
        "- context?\n",
        "- assumptions?\n",
        "- predictions?"
      ],
      "metadata": {
        "id": "v6NnzoV_RWo6"
      }
    },
    {
      "cell_type": "markdown",
      "source": [
        "\n",
        "Definition of Likelihood: Likelihood refers to the measure of how well a statistical model fits the observed data, especially after the data has experienced changes or deviations from established patterns.\n",
        "\n",
        "In Relation to Context: The likelihood of a dataset is influenced by the context it originates from. A deeper understanding of that context helps improve the accuracy of the likelihood estimate.\n",
        "\n",
        "In Relation to Assumptions: Assumptions are crucial to likelihoods because they involve beliefs about the data’s distribution and the relationships between variables within the model.\n",
        "\n",
        "In Relation to Predictions: Predictions and likelihoods are closely related, as likelihoods can help inform and refine predictions. Likelihood values can be used to assess the probability of future outcomes based on the data."
      ],
      "metadata": {
        "id": "VK5s3vZpVGLc"
      }
    },
    {
      "cell_type": "markdown",
      "source": [
        "**Task6**:\n",
        "\n",
        "What is a posterior? How are posteriors related to:\n",
        "\n",
        "- context?\n",
        "- assumptions?\n",
        "- predictions?"
      ],
      "metadata": {
        "id": "eYSYtG_2Rowf"
      }
    },
    {
      "cell_type": "markdown",
      "source": [
        "Definition of Posterior: The posterior is the probability distribution of a dataset after taking into account new evidence or observations.\n",
        "\n",
        "In Relation to Context: Understanding and analyzing the data is essential for determining the posterior, as this helps in estimating the probability distribution accurately.\n",
        "\n",
        "In Relation to Assumptions: When establishing a prior and likelihood, certain assumptions are made regarding the distributions, relationships, and behaviors of the data.\n",
        "\n",
        "In Relation to Predictions: Once the posterior distribution is established, it can be used to make informed predictions about future observations or outcomes."
      ],
      "metadata": {
        "id": "T04x1VteVHH1"
      }
    },
    {
      "cell_type": "markdown",
      "source": [
        "**Task7**:\n",
        "\n",
        "Why would anyone want to define a prior and a likelihood in order to make a prediction? In other words, what's the point of using a likelihood and a prior to form a posterior?"
      ],
      "metadata": {
        "id": "CMAm4LqBXYxG"
      }
    },
    {
      "cell_type": "markdown",
      "source": [
        "Using a likelihood and a prior to make an assumption usually leads to the posterior being the most accurate and precise within the context of the dataset."
      ],
      "metadata": {
        "id": "rag62h9DVIDN"
      }
    },
    {
      "cell_type": "markdown",
      "source": [
        "## Bayes' Rule Math\n",
        "\n",
        "The following exrcises will be graded for completion, with no accuracy component. That said, correct answers below will replace mistakes in tasks 1-7.\n",
        "\n"
      ],
      "metadata": {
        "id": "BNrO2k34SGoF"
      }
    },
    {
      "cell_type": "markdown",
      "source": [
        "### Mathematical Framing\n",
        "\n",
        "In this series of exercises, we'll calculate a probability using the full version of Bayes' Rule.\n",
        "\n",
        "The version seen in the notes, $p(θ|y) ∝ p(y|θ)p(θ)$, ignores the normalizing constant found in the full equation: $p(θ|y) = \\frac{p(y|θ)p(θ)}{p(y)}$.\n",
        "\n",
        "As stated in the notes, in practical applications we don't need to worry too much about $p(y)$, AKA the marginal likelihood, AKA the prior predictive density, AKA the normalizing constant. And when we do, we'll approximate like we do everything else.\n",
        "\n",
        "But we these exercises are closer to theoretical abstraction, rather than practicality.\n",
        "\n",
        "So why do them?\n",
        "\n",
        "These exercises will hopefully help you gain additional inuition for probability, and how it behaves.\n",
        "\n",
        "As you work through the exercises, consider $p(y)$, the  prior predictive density, and why using it to divide $p(y|θ)p(θ)$ gurantees we get a probability.\n",
        "\n",
        "Additonaly, wonder about:\n",
        "- the likelihood $p(y|θ)$\n",
        "- the prior $p(θ)$,\n",
        "- why multiplying the likelihood and piror (almost) gives us the posterior $p(θ|y)$."
      ],
      "metadata": {
        "id": "w7KMRJa_TmdF"
      }
    },
    {
      "cell_type": "markdown",
      "source": [
        "###Problem Setting\n",
        "\n",
        "Imagine we have a bag of red and white marbles, identical in every other way. Let's assume there are 4 total marbles, we can't see inside the bag, and when we grab a ball from the bag, we replace it and shake the bag to scramble the balls.\n",
        "\n",
        "Additionally:\n",
        "\n",
        "- we draw three balls in this order: red-white-red. Call these the data, $y$. Remember, we replaced the ball and shook the bag between each draw.\n",
        "- we are interested in finding the true proportion of red balls in the bag, called $θ$"
      ],
      "metadata": {
        "id": "ab7E9RIuj2OX"
      }
    },
    {
      "cell_type": "markdown",
      "source": [
        "**Task8**:\n",
        "\n",
        "Write out all the possible color compositions of the marbless in the bag, before we observed our data $y$.\n",
        "\n",
        "Let each of these possible color compositions be a possible $θ$, or true proportion of red marbles."
      ],
      "metadata": {
        "id": "AmHTGWQQHuAD"
      }
    },
    {
      "cell_type": "markdown",
      "source": [
        "2 reds and 1 white, 2 whites and 1 red"
      ],
      "metadata": {
        "id": "EkPylHwCVK72"
      }
    },
    {
      "cell_type": "markdown",
      "source": [
        "**Task9**:\n",
        "\n",
        "Which color compositions are possible after seeing the data $y$?"
      ],
      "metadata": {
        "id": "-TELvcnVH8N2"
      }
    },
    {
      "cell_type": "markdown",
      "source": [
        "Red, White, Red"
      ],
      "metadata": {
        "id": "7q6nUOdNMN9Z"
      }
    },
    {
      "cell_type": "markdown",
      "source": [
        "**Task10**:\n",
        "\n",
        "How many ways can you select red-white-red, assuming that there are 2 red marbles and 2 white marbles?"
      ],
      "metadata": {
        "id": "vIjecZm7OVcy"
      }
    },
    {
      "cell_type": "markdown",
      "source": [
        "One way"
      ],
      "metadata": {
        "id": "p2vDjMVIXtWR"
      }
    },
    {
      "cell_type": "markdown",
      "source": [
        "**Task11**:\n",
        "\n",
        "How many different ways can you select three balls so that order matters, given that there are 2 red marbles and 2 white marbles?"
      ],
      "metadata": {
        "id": "Bs7tx0pXhUZy"
      }
    },
    {
      "cell_type": "markdown",
      "source": [
        "(red white red) ( red red white) (white red red) (white white red) (white red white) ( red white white) - Six ways"
      ],
      "metadata": {
        "id": "69ScN4NYh6ks"
      }
    },
    {
      "cell_type": "markdown",
      "source": [
        "**Task12**:\n",
        "\n",
        "What's the probablity you select red-white-red, given that there are 2 red marbles and 2 white marbles?\n",
        "\n",
        "Stated differently, Find the likelihood $p(y|θ)$, where $θ=RRWW$"
      ],
      "metadata": {
        "id": "k87Z69qUg9KV"
      }
    },
    {
      "cell_type": "markdown",
      "source": [
        "\n",
        "p(RWR)= (1/2)(2/3)(1/2)= 1/6"
      ],
      "metadata": {
        "id": "v5bdqu1nri3Y"
      }
    },
    {
      "cell_type": "markdown",
      "source": [
        "**Task13**:\n",
        "\n",
        "Find:\n",
        "\n",
        "- $p(y|WWWW)$\n",
        "- $p(y|RWWW)$\n",
        "- $p(y|RRWW)$\n",
        "- $p(y|RRRW)$\n",
        "- $p(y|RRRR)$"
      ],
      "metadata": {
        "id": "j6e9WP49sZJh"
      }
    },
    {
      "cell_type": "markdown",
      "source": [
        "\n",
        "𝑝(𝑦|𝑊𝑊𝑊𝑊)= 0\n",
        "\n",
        "𝑝(𝑦|𝑅𝑊𝑊𝑊) = 0.046\n",
        "\n",
        "𝑝(𝑦|𝑅𝑅𝑊𝑊) = 0.125\n",
        "\n",
        "𝑝(𝑦|𝑅𝑅𝑅𝑊) = 0.140\n",
        "\n",
        "𝑝(𝑦|𝑅𝑅𝑅𝑅) = 0"
      ],
      "metadata": {
        "id": "NbSC4dj_tf4Y"
      }
    },
    {
      "cell_type": "markdown",
      "source": [
        "**Task14**:\n",
        "\n",
        "Find the probablity of getting red-white-red, $p(y)$"
      ],
      "metadata": {
        "id": "qxSVk_Sjv8Gk"
      }
    },
    {
      "cell_type": "markdown",
      "source": [
        "p(y|0) = (1/2)x(1/2)x(1/2) = 1/8"
      ],
      "metadata": {
        "id": "N3PVjOk5wDZT"
      }
    },
    {
      "cell_type": "markdown",
      "source": [
        "**Task15**:\n",
        "\n",
        "Given that all color compositions are equally likely, and after observing  a draw of red-white-red, find the probability that there are two red marbles and two white marbles in the bag.\n",
        "\n",
        "In other words, find $p(θ|y)$, where $θ=RRWW$."
      ],
      "metadata": {
        "id": "CYoWtEwxyNB-"
      }
    },
    {
      "cell_type": "markdown",
      "source": [
        "4/10"
      ],
      "metadata": {
        "id": "WxX-o3Uuy9eR"
      }
    },
    {
      "cell_type": "markdown",
      "source": [
        "**Task16**:\n",
        "\n",
        "Story time: The marble factory produces bags of four marbles. They want to make red marbles rare, so that people will get excited about them.  Therefore, for each 1 bag containing four red, they made 2 that contain three red, 3 that contain two red, 4 that contain one red, and 5 that contain zero red.\n",
        "\n",
        "With this new prior information, find $p(θ|y)$, where $θ=RRWW$."
      ],
      "metadata": {
        "id": "VgMdbaKW1o39"
      }
    },
    {
      "cell_type": "markdown",
      "source": [
        "4/9"
      ],
      "metadata": {
        "id": "UMMrUAIs3Dsi"
      }
    },
    {
      "cell_type": "markdown",
      "source": [
        "**Task17**:\n",
        "\n",
        "Write down similarities and differences between this marble example, and the VIctor Wembanyama FT example."
      ],
      "metadata": {
        "id": "ABn_s24K4K0H"
      }
    },
    {
      "cell_type": "markdown",
      "source": [
        "The equations and systems used in the Wemby example and the marble example share similarities, particularly in their approach to understanding probabilities. However, they differ in their focus; the Wemby example emphasizes predictions and educated guesses, while the marble example is more centered on applying equations to solve specific problems."
      ],
      "metadata": {
        "id": "CAmT3Bd34fhc"
      }
    }
  ]
}