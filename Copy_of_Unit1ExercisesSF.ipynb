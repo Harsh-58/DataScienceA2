{
  "nbformat": 4,
  "nbformat_minor": 0,
  "metadata": {
    "colab": {
      "provenance": [],
      "include_colab_link": true
    },
    "kernelspec": {
      "name": "python3",
      "display_name": "Python 3"
    },
    "language_info": {
      "name": "python"
    }
  },
  "cells": [
    {
      "cell_type": "markdown",
      "metadata": {
        "id": "view-in-github",
        "colab_type": "text"
      },
      "source": [
        "<a href=\"https://colab.research.google.com/github/Harsh-58/DataScienceA2/blob/main/Copy_of_Unit1ExercisesSF.ipynb\" target=\"_parent\"><img src=\"https://colab.research.google.com/assets/colab-badge.svg\" alt=\"Open In Colab\"/></a>"
      ]
    },
    {
      "cell_type": "markdown",
      "source": [
        "# Unit 1 Exercises: Data Structure Concepts\n",
        "\n",
        "The following questions will ask you to describe the various objects we learned about in the first Unit.\n",
        "\n",
        "I'm not giving you coding exercises, because we will learn all the coding technqiues we need as we move through the course.\n",
        "\n",
        "What I do need from you right now, is a conceptual understanding how how data is stored in our computer, when we use python."
      ],
      "metadata": {
        "id": "65OCktLjbZmA"
      }
    },
    {
      "cell_type": "markdown",
      "source": [
        "**Task1**:\n",
        "\n",
        "Describe the similarities and differences between an int and a float in python."
      ],
      "metadata": {
        "id": "bt0bWe1evLtv"
      }
    },
    {
      "cell_type": "markdown",
      "source": [
        "**Answer1**:\n",
        "\n",
        "int represents whole numbers, and float represents numbers with decimals. Both can be used in arithmetic, but float can handle a wider range with fractions, while int is precise for whole numbers and not for fractions."
      ],
      "metadata": {
        "id": "FW3KHt4yvt90"
      }
    },
    {
      "cell_type": "markdown",
      "source": [
        "**Task2**:\n",
        "\n",
        "Describe the similarities and differences between: strings, lists, and dicts."
      ],
      "metadata": {
        "id": "mJ_i6he5wwgr"
      }
    },
    {
      "cell_type": "markdown",
      "source": [
        "**Answer2**:\n",
        "\n",
        "Strings, lists, and dicts are core data structures for storing collections of data. Strings are immutable sequences of characters used for text and do not support modifications. Lists are mutable sequences that can contain items of different types and support operations like appending, removing, and modifying elements. Dicts, store data in key-value pairs, where each key must be unique and immutable. They allow for efficient lookups and retrieval. While all three can be iterated over, they differ in their structure and intended use. Strings focus on text, lists on ordered collections, and dicts on associative arrays.\n"
      ],
      "metadata": {
        "id": "iFu5BKyWw98T"
      }
    },
    {
      "cell_type": "markdown",
      "source": [
        "\n",
        "\n",
        "```\n",
        "# This is formatted as code\n",
        "```\n",
        "\n",
        "**Task3**:"
      ],
      "metadata": {
        "id": "56v05s45yBHk"
      }
    },
    {
      "cell_type": "markdown",
      "source": [
        "What is a numpy array? Why would we use one over a list or dict?\n",
        "\n"
      ],
      "metadata": {
        "id": "SF8pAoqAlMvF"
      }
    },
    {
      "cell_type": "markdown",
      "source": [
        "**Answer3**:\n",
        "\n",
        "A NumPy array is a powerful, multi-dimensional container for numeric data provided by the NumPy library in Python. Unlike lists, NumPy arrays support efficient, vectorized operations and mathematical functions, making them ideal for handling large datasets and performing complex numerical computations. They are homogeneous, meaning all elements are of the same type, which optimizes performance and memory usage. While lists and dictionaries can handle basic data storage and operations, NumPy arrays offer superior performance for mathematical tasks, multidimensional data management, and advanced numerical functions, making them the preferred choice for scientific computing and data analysis."
      ],
      "metadata": {
        "id": "eikgxyNzyLTY"
      }
    },
    {
      "cell_type": "markdown",
      "source": [
        "**Task4**:\n",
        "\n",
        "What is a pandas dataframe? Why would we ever want to use one over a numpy array?"
      ],
      "metadata": {
        "id": "RLaEQ5irywBl"
      }
    },
    {
      "cell_type": "markdown",
      "source": [
        "**Answer4**:\n",
        "\n",
        "A pandas dataframe is a data structure in pyhton that looks similar to a spreadsheet. The data is organized in rows and columns and each column can hold different types of data. A numpy array uses integer indices for rows and columns, which can make it harder to understand the context of the data. On the other hand, columns and rows in PD can be labeled which makes it easier to identify trends and data."
      ],
      "metadata": {
        "id": "5IkNlzYpy-HP"
      }
    },
    {
      "cell_type": "markdown",
      "source": [
        "**Task5**:\n",
        "\n",
        "What are for loops, and why would we ever use them?"
      ],
      "metadata": {
        "id": "khRn2d7qz1Y2"
      }
    },
    {
      "cell_type": "markdown",
      "source": [
        "**Answer5**:\n",
        "\n",
        "A for loop in programming is a control flow statement that allows you to iterate over a sequence and execute a block of code multiple times. This is useful when you need to perform repetitive tasks, process collections of items, or apply the same operation to each element in a sequence.\n",
        "\n"
      ],
      "metadata": {
        "id": "NAdVfRZB1d9J"
      }
    }
  ]
}